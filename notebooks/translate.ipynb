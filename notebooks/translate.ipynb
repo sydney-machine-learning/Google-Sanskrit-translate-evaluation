{
  "nbformat": 4,
  "nbformat_minor": 0,
  "metadata": {
    "colab": {
      "name": "translate.ipynb",
      "provenance": [],
      "collapsed_sections": []
    },
    "kernelspec": {
      "name": "python3",
      "display_name": "Python 3"
    },
    "language_info": {
      "name": "python"
    }
  },
  "cells": [
    {
      "cell_type": "code",
      "execution_count": null,
      "metadata": {
        "id": "_fPZyjfSs8f0"
      },
      "outputs": [],
      "source": [
        "  ! pip install translators"
      ]
    },
    {
      "cell_type": "code",
      "execution_count": null,
      "metadata": {
        "id": "MGaP1rn6JyPr"
      },
      "outputs": [],
      "source": [
        "import requests\n",
        "from bs4 import BeautifulSoup\n",
        "import json, csv, os\n",
        "\n",
        "import pandas as pd\n",
        "import numpy as np\n",
        "import matplotlib.pyplot as plt\n",
        "import seaborn as sns\n",
        "\n",
        "from collections import defaultdict"
      ]
    },
    {
      "cell_type": "code",
      "source": [
        "import translators as ts "
      ],
      "metadata": {
        "id": "DZFTzeviYR0V",
        "colab": {
          "base_uri": "https://localhost:8080/"
        },
        "outputId": "7bf942c2-7b83-4aca-aa59-075619c358f8"
      },
      "execution_count": null,
      "outputs": [
        {
          "output_type": "stream",
          "name": "stderr",
          "text": [
            "Using United States server backend.\n"
          ]
        }
      ]
    },
    {
      "cell_type": "code",
      "source": [
        "all_url = []"
      ],
      "metadata": {
        "id": "vxO0ApTSLtrm"
      },
      "execution_count": null,
      "outputs": []
    },
    {
      "cell_type": "code",
      "source": [
        "url_hp = 'https://vedabase.io'"
      ],
      "metadata": {
        "id": "qiC7i2x0MAlo"
      },
      "execution_count": null,
      "outputs": []
    },
    {
      "cell_type": "code",
      "source": [
        "\n",
        "list_slokas_chap1 = [str(x) for x in range(1, 16)]\n",
        "list_slokas_chap1.extend(['16-18'])\n",
        "list_slokas_chap1.extend([str(x) for x in range(19, 21)])\n",
        "list_slokas_chap1.extend(['21-22'])\n",
        "list_slokas_chap1.extend([str(x) for x in range(23, 32)])\n",
        "list_slokas_chap1.extend(['32-35', '36', '37-38'])\n",
        "list_slokas_chap1.extend([str(x) for x in range(39, 47)])\n",
        "list_slokas_chap1"
      ],
      "metadata": {
        "id": "GTl57EUgQm44",
        "colab": {
          "base_uri": "https://localhost:8080/"
        },
        "outputId": "318b6f12-836a-4231-da70-65c40b3df5a4"
      },
      "execution_count": null,
      "outputs": [
        {
          "output_type": "execute_result",
          "data": {
            "text/plain": [
              "['1',\n",
              " '2',\n",
              " '3',\n",
              " '4',\n",
              " '5',\n",
              " '6',\n",
              " '7',\n",
              " '8',\n",
              " '9',\n",
              " '10',\n",
              " '11',\n",
              " '12',\n",
              " '13',\n",
              " '14',\n",
              " '15',\n",
              " '16-18',\n",
              " '19',\n",
              " '20',\n",
              " '21-22',\n",
              " '23',\n",
              " '24',\n",
              " '25',\n",
              " '26',\n",
              " '27',\n",
              " '28',\n",
              " '29',\n",
              " '30',\n",
              " '31',\n",
              " '32-35',\n",
              " '36',\n",
              " '37-38',\n",
              " '39',\n",
              " '40',\n",
              " '41',\n",
              " '42',\n",
              " '43',\n",
              " '44',\n",
              " '45',\n",
              " '46']"
            ]
          },
          "metadata": {},
          "execution_count": 118
        }
      ]
    },
    {
      "cell_type": "code",
      "source": [
        "def get_chapter_slokas(chapter, list_slokas):\n",
        "  url_chap1  = [f'https://vedabase.io/en/library/bg/{chapter}/{x}' for x in list_slokas]\n",
        "  dict_slokas = defaultdict()\n",
        "  for slokas, url_slokas in zip(list_slokas, url_chap1):\n",
        "    page_request = requests.get(url_slokas)\n",
        "    data = page_request.content\n",
        "    soup = BeautifulSoup(data,\"html.parser\")\n",
        "    slokas_text = soup.find_all('div', class_ = 'r r-devanagari')[0].text\n",
        "    dict_slokas[slokas] = slokas_text\n",
        "    # print(slokas_text)\n",
        "  return dict_slokas\n",
        "sloaks_chap1 = get_chapter_slokas(1, list_slokas_chap1)"
      ],
      "metadata": {
        "id": "jXyUi_2eQjGJ"
      },
      "execution_count": null,
      "outputs": []
    },
    {
      "cell_type": "code",
      "source": [
        "slokas_df = pd.DataFrame({'slokas_no' : list(sloaks_chap1.keys()), 'slokas' :list(sloaks_chap1.values())})\n",
        "slokas_df.head()"
      ],
      "metadata": {
        "id": "4Y-zYIGXUE77"
      },
      "execution_count": null,
      "outputs": []
    },
    {
      "cell_type": "code",
      "source": [
        "slokas_df.to_csv(\"chapter_1.csv\", index=False)"
      ],
      "metadata": {
        "id": "Sy0gC0ZePCSN"
      },
      "execution_count": null,
      "outputs": []
    },
    {
      "cell_type": "code",
      "source": [
        "def get_slokas_trans(slokas_df):\n",
        "  slokas_trans = []\n",
        "  for x in range(slokas_df.shape[0]):\n",
        "    slokas = slokas_df.iloc[x, 1]\n",
        "    slokas_trans.append(ts.google(query_text=slokas,to_language='en'))\n",
        "  slokas_df['slokas_english'] = slokas_trans\n",
        "  return slokas_df\n",
        "slokas_df_with_en = get_slokas_trans(slokas_df)\n",
        "slokas_df_with_en.head()"
      ],
      "metadata": {
        "colab": {
          "base_uri": "https://localhost:8080/",
          "height": 206
        },
        "id": "8i8vBooBWG1t",
        "outputId": "e88b43e4-c5ee-4ddb-8991-29bd79098ed1"
      },
      "execution_count": null,
      "outputs": [
        {
          "output_type": "execute_result",
          "data": {
            "text/plain": [
              "  slokas_no                                             slokas  \\\n",
              "0         1  धृतराष्ट्र उवाचधर्मक्षेत्रे कुरुक्षेत्रे समवेत...   \n",
              "1         2  सञ्जय उवाचदृष्ट्वा तु पाण्डवानीकं व्यूढं दुर्य...   \n",
              "2         3  पश्यैतां पाण्डुपुत्राणामाचार्य महतीं चमूम् ।व्...   \n",
              "3         4  अत्र श‍ूरा महेष्वासा भीमार्जुनसमा युधि ।युयुधा...   \n",
              "4         5  धृष्टकेतुश्चेकितानः काशिराजश्च वीर्यवान् ।पुरु...   \n",
              "\n",
              "                                      slokas_english  \n",
              "0  Dhṛtarāṣṭra said: O Sanjaya, what did the Pāṇḍ...  \n",
              "1  Sanjaya saw the army of the Pāṇḍavas arranged ...  \n",
              "2  O teacher look at this great army of the sons ...  \n",
              "3  Here the great archer Bhīma and Arjuna are equ...  \n",
              "4  Dhrishtaketu and Chekitana were the mighty kin...  "
            ],
            "text/html": [
              "\n",
              "  <div id=\"df-e7d592a2-63f1-4a4c-856c-3306c92de010\">\n",
              "    <div class=\"colab-df-container\">\n",
              "      <div>\n",
              "<style scoped>\n",
              "    .dataframe tbody tr th:only-of-type {\n",
              "        vertical-align: middle;\n",
              "    }\n",
              "\n",
              "    .dataframe tbody tr th {\n",
              "        vertical-align: top;\n",
              "    }\n",
              "\n",
              "    .dataframe thead th {\n",
              "        text-align: right;\n",
              "    }\n",
              "</style>\n",
              "<table border=\"1\" class=\"dataframe\">\n",
              "  <thead>\n",
              "    <tr style=\"text-align: right;\">\n",
              "      <th></th>\n",
              "      <th>slokas_no</th>\n",
              "      <th>slokas</th>\n",
              "      <th>slokas_english</th>\n",
              "    </tr>\n",
              "  </thead>\n",
              "  <tbody>\n",
              "    <tr>\n",
              "      <th>0</th>\n",
              "      <td>1</td>\n",
              "      <td>धृतराष्ट्र उवाचधर्मक्षेत्रे कुरुक्षेत्रे समवेत...</td>\n",
              "      <td>Dhṛtarāṣṭra said: O Sanjaya, what did the Pāṇḍ...</td>\n",
              "    </tr>\n",
              "    <tr>\n",
              "      <th>1</th>\n",
              "      <td>2</td>\n",
              "      <td>सञ्जय उवाचदृष्ट्वा तु पाण्डवानीकं व्यूढं दुर्य...</td>\n",
              "      <td>Sanjaya saw the army of the Pāṇḍavas arranged ...</td>\n",
              "    </tr>\n",
              "    <tr>\n",
              "      <th>2</th>\n",
              "      <td>3</td>\n",
              "      <td>पश्यैतां पाण्डुपुत्राणामाचार्य महतीं चमूम् ।व्...</td>\n",
              "      <td>O teacher look at this great army of the sons ...</td>\n",
              "    </tr>\n",
              "    <tr>\n",
              "      <th>3</th>\n",
              "      <td>4</td>\n",
              "      <td>अत्र श‍ूरा महेष्वासा भीमार्जुनसमा युधि ।युयुधा...</td>\n",
              "      <td>Here the great archer Bhīma and Arjuna are equ...</td>\n",
              "    </tr>\n",
              "    <tr>\n",
              "      <th>4</th>\n",
              "      <td>5</td>\n",
              "      <td>धृष्टकेतुश्चेकितानः काशिराजश्च वीर्यवान् ।पुरु...</td>\n",
              "      <td>Dhrishtaketu and Chekitana were the mighty kin...</td>\n",
              "    </tr>\n",
              "  </tbody>\n",
              "</table>\n",
              "</div>\n",
              "      <button class=\"colab-df-convert\" onclick=\"convertToInteractive('df-e7d592a2-63f1-4a4c-856c-3306c92de010')\"\n",
              "              title=\"Convert this dataframe to an interactive table.\"\n",
              "              style=\"display:none;\">\n",
              "        \n",
              "  <svg xmlns=\"http://www.w3.org/2000/svg\" height=\"24px\"viewBox=\"0 0 24 24\"\n",
              "       width=\"24px\">\n",
              "    <path d=\"M0 0h24v24H0V0z\" fill=\"none\"/>\n",
              "    <path d=\"M18.56 5.44l.94 2.06.94-2.06 2.06-.94-2.06-.94-.94-2.06-.94 2.06-2.06.94zm-11 1L8.5 8.5l.94-2.06 2.06-.94-2.06-.94L8.5 2.5l-.94 2.06-2.06.94zm10 10l.94 2.06.94-2.06 2.06-.94-2.06-.94-.94-2.06-.94 2.06-2.06.94z\"/><path d=\"M17.41 7.96l-1.37-1.37c-.4-.4-.92-.59-1.43-.59-.52 0-1.04.2-1.43.59L10.3 9.45l-7.72 7.72c-.78.78-.78 2.05 0 2.83L4 21.41c.39.39.9.59 1.41.59.51 0 1.02-.2 1.41-.59l7.78-7.78 2.81-2.81c.8-.78.8-2.07 0-2.86zM5.41 20L4 18.59l7.72-7.72 1.47 1.35L5.41 20z\"/>\n",
              "  </svg>\n",
              "      </button>\n",
              "      \n",
              "  <style>\n",
              "    .colab-df-container {\n",
              "      display:flex;\n",
              "      flex-wrap:wrap;\n",
              "      gap: 12px;\n",
              "    }\n",
              "\n",
              "    .colab-df-convert {\n",
              "      background-color: #E8F0FE;\n",
              "      border: none;\n",
              "      border-radius: 50%;\n",
              "      cursor: pointer;\n",
              "      display: none;\n",
              "      fill: #1967D2;\n",
              "      height: 32px;\n",
              "      padding: 0 0 0 0;\n",
              "      width: 32px;\n",
              "    }\n",
              "\n",
              "    .colab-df-convert:hover {\n",
              "      background-color: #E2EBFA;\n",
              "      box-shadow: 0px 1px 2px rgba(60, 64, 67, 0.3), 0px 1px 3px 1px rgba(60, 64, 67, 0.15);\n",
              "      fill: #174EA6;\n",
              "    }\n",
              "\n",
              "    [theme=dark] .colab-df-convert {\n",
              "      background-color: #3B4455;\n",
              "      fill: #D2E3FC;\n",
              "    }\n",
              "\n",
              "    [theme=dark] .colab-df-convert:hover {\n",
              "      background-color: #434B5C;\n",
              "      box-shadow: 0px 1px 3px 1px rgba(0, 0, 0, 0.15);\n",
              "      filter: drop-shadow(0px 1px 2px rgba(0, 0, 0, 0.3));\n",
              "      fill: #FFFFFF;\n",
              "    }\n",
              "  </style>\n",
              "\n",
              "      <script>\n",
              "        const buttonEl =\n",
              "          document.querySelector('#df-e7d592a2-63f1-4a4c-856c-3306c92de010 button.colab-df-convert');\n",
              "        buttonEl.style.display =\n",
              "          google.colab.kernel.accessAllowed ? 'block' : 'none';\n",
              "\n",
              "        async function convertToInteractive(key) {\n",
              "          const element = document.querySelector('#df-e7d592a2-63f1-4a4c-856c-3306c92de010');\n",
              "          const dataTable =\n",
              "            await google.colab.kernel.invokeFunction('convertToInteractive',\n",
              "                                                     [key], {});\n",
              "          if (!dataTable) return;\n",
              "\n",
              "          const docLinkHtml = 'Like what you see? Visit the ' +\n",
              "            '<a target=\"_blank\" href=https://colab.research.google.com/notebooks/data_table.ipynb>data table notebook</a>'\n",
              "            + ' to learn more about interactive tables.';\n",
              "          element.innerHTML = '';\n",
              "          dataTable['output_type'] = 'display_data';\n",
              "          await google.colab.output.renderOutput(dataTable, element);\n",
              "          const docLink = document.createElement('div');\n",
              "          docLink.innerHTML = docLinkHtml;\n",
              "          element.appendChild(docLink);\n",
              "        }\n",
              "      </script>\n",
              "    </div>\n",
              "  </div>\n",
              "  "
            ]
          },
          "metadata": {},
          "execution_count": 122
        }
      ]
    },
    {
      "cell_type": "code",
      "source": [
        "slokas_df_with_en.to_csv(\"chapter_1_translated.csv\", index=False)"
      ],
      "metadata": {
        "id": "K7mX8ZhUV-QL"
      },
      "execution_count": null,
      "outputs": []
    }
  ]
}